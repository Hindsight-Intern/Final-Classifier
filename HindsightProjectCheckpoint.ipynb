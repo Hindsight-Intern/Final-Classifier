{
 "cells": [
  {
   "cell_type": "code",
   "execution_count": null,
   "id": "503a9426",
   "metadata": {},
   "outputs": [],
   "source": [
    "import requests\n",
    "from bs4 import BeautifulSoup\n",
    "\n",
    "url = 'https://www.cbsnews.com/feature/2021-olympics-summer-tokyo/#'\n",
    "reqs = requests.get(url)\n",
    "soup = BeautifulSoup(reqs.text, 'html.parser')\n",
    "#gets every single link as an output\n",
    "\n",
    "#will filter out valid links and append to list\n",
    "urls = []\n",
    "for link in soup.find_all('a'):\n",
    "    str = link.get('href')\n",
    "    if (str.startswith( 'https://www.cbsnews.com' )) == True:\n",
    "        print(str)\n",
    "        urls.append(str)"
   ]
  },
  {
   "cell_type": "code",
   "execution_count": null,
   "id": "ff8ce98d",
   "metadata": {},
   "outputs": [],
   "source": [
    "print(urls)"
   ]
  },
  {
   "cell_type": "code",
   "execution_count": null,
   "id": "1ddddb46",
   "metadata": {
    "scrolled": true
   },
   "outputs": [],
   "source": [
    "import urllib.request\n",
    "from bs4 import BeautifulSoup\n",
    "\n",
    "##Testing - scraping the text from an article\n",
    "\n",
    "url = \"https://www.washingtonpost.com/opinions/2021/08/02/is-nbc-blame-simone-biles-olympic-withdrawal/\"\n",
    "\n",
    "# opening the url for reading -- reads the text\n",
    "html = urllib.request.urlopen(url).read()\n",
    "\n",
    "# parsing the html file\n",
    "htmlParse = BeautifulSoup(html, 'html.parser')\n",
    "\n",
    "# gets the text from every paragraph\n",
    "for para in htmlParse.find_all(\"p\"):\n",
    "    text = para.get_text()\n",
    "    print(text + \"\\n\")"
   ]
  },
  {
   "cell_type": "code",
   "execution_count": null,
   "id": "dfb417e8",
   "metadata": {},
   "outputs": [],
   "source": [
    "# gets the title of the article\n",
    "url = 'https://www.rollingstone.com/music/music-news/taylor-swift-simone-biles-tribute-video-tokyo-olympics-1207099/'\n",
    "html_content = requests.get(url).text\n",
    "\n",
    "\n",
    "soup = BeautifulSoup(html_content, \"lxml\")\n",
    "text = soup.title.text\n",
    "print(text)"
   ]
  },
  {
   "cell_type": "markdown",
   "id": "33e200d2",
   "metadata": {},
   "source": [
    "#giving errors so using alternative method!\n",
    "\n",
    "import requests\n",
    "from bs4 import BeautifulSoup\n",
    "\n",
    "#looping over every single article and then scrapping for the titles because i think they\n",
    "#give enough info about the article for now\n",
    "\n",
    "url = 'https://www.cbsnews.com/feature/2021-olympics-summer-tokyo/#'\n",
    "reqs = requests.get(url)\n",
    "soup = BeautifulSoup(reqs.text, 'html.parser')\n",
    "\n",
    "urls = []\n",
    "for link in soup.find_all('a'):\n",
    "    str = link.get('href')\n",
    "    if (str.startswith( 'https' )) == True:\n",
    "        html_content = requests.get(link.get('href')).text\n",
    "        soup = BeautifulSoup(html_content, \"lxml\")\n",
    "        text = soup.title.text\n",
    "        print(text)\n",
    "\n",
    "#print(str)"
   ]
  },
  {
   "cell_type": "code",
   "execution_count": null,
   "id": "12188b79",
   "metadata": {},
   "outputs": [],
   "source": [
    "for url in urls:\n",
    "    source = urllib.request.urlopen(url).read()\n",
    "    soup = BeautifulSoup(source, 'lxml')\n",
    "    print(soup.title.string)\n",
    "    print(\"\\n\")"
   ]
  },
  {
   "cell_type": "code",
   "execution_count": null,
   "id": "bdb37301",
   "metadata": {
    "scrolled": true
   },
   "outputs": [],
   "source": [
    "# downloading necessary stuff\n",
    "!pip install transformers[sentencepiece]\n",
    "!pip install PySoundFile"
   ]
  },
  {
   "cell_type": "code",
   "execution_count": null,
   "id": "81f32180",
   "metadata": {},
   "outputs": [],
   "source": [
    "from transformers import pipeline\n",
    "# testing out the pipeline with the correct labels\n",
    "text = [\n",
    "    'Kids make up 15% of COVID-19 cases in the U.S. and some doctors say theyre getting sicker - CBS News',\n",
    "    ' Florida could withhold salaries of school officials who implement mask mandates'\n",
    "]\n",
    "\n",
    "classifier = pipeline(\"zero-shot-classification\")\n",
    "classifier(text,\n",
    "    candidate_labels=[\"politics\", \"international news\", \"celebrity\", \"sports\", \"health\", \"nutrition\", \"fitness\", \"beauty\", \"business\", \"economy\", \"finance\", \"technology\", \"science\", \"lifestyle\"],)"
   ]
  }
 ],
 "metadata": {
  "kernelspec": {
   "display_name": "Python 3",
   "language": "python",
   "name": "python3"
  },
  "language_info": {
   "codemirror_mode": {
    "name": "ipython",
    "version": 3
   },
   "file_extension": ".py",
   "mimetype": "text/x-python",
   "name": "python",
   "nbconvert_exporter": "python",
   "pygments_lexer": "ipython3",
   "version": "3.9.5"
  }
 },
 "nbformat": 4,
 "nbformat_minor": 5
}
